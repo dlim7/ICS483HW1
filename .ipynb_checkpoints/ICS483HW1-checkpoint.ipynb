{
 "cells": [
  {
   "cell_type": "markdown",
   "metadata": {},
   "source": [
    "# Damien Lim HW1 9/11/20"
   ]
  },
  {
   "cell_type": "markdown",
   "metadata": {},
   "source": [
    "# Question 4a"
   ]
  },
  {
   "cell_type": "code",
   "execution_count": 4,
   "metadata": {},
   "outputs": [],
   "source": [
    "#display images\n",
    "from PIL import Image\n",
    "img1 = Image.open('image1.jpg')\n",
    "img1.show()\n",
    "img2 = Image.open('image2.jpg')\n",
    "img2.show()"
   ]
  },
  {
   "cell_type": "markdown",
   "metadata": {},
   "source": [
    "# Question 4b"
   ]
  },
  {
   "cell_type": "code",
   "execution_count": 6,
   "metadata": {},
   "outputs": [],
   "source": [
    "#crop image1\n",
    "image1_crop = img1.crop((1100, 100, 2100, 1100)) \n",
    "image1_crop.show()"
   ]
  },
  {
   "cell_type": "code",
   "execution_count": 7,
   "metadata": {},
   "outputs": [],
   "source": [
    "#save cropped image\n",
    "image1_crop.save(\"image1_crop.jpg\", \"\")"
   ]
  },
  {
   "cell_type": "code",
   "execution_count": 15,
   "metadata": {},
   "outputs": [],
   "source": [
    "# rotating cropped image 90 deg counter clockwise \n",
    "image1_crop_rotated = image1_crop.rotate(90) \n",
    "image1_crop_rotated.show()"
   ]
  },
  {
   "cell_type": "code",
   "execution_count": 16,
   "metadata": {},
   "outputs": [],
   "source": [
    "#save cropped and rotated image\n",
    "image1_crop_rotated.save(\"image1_crop_rotated.jpg\", \"\")"
   ]
  },
  {
   "cell_type": "code",
   "execution_count": 22,
   "metadata": {},
   "outputs": [],
   "source": [
    "#paste cropped and rotated image1 over image2\n",
    "#create a copy of img2 to image2_pasted so that we dont change the original image\n",
    "image2_pasted = img2.copy()\n",
    "#paste onto the copied img2\n",
    "image2_pasted.paste(image1_crop_rotated, (100, 100))\n",
    "image2_pasted.show()"
   ]
  },
  {
   "cell_type": "code",
   "execution_count": 23,
   "metadata": {},
   "outputs": [],
   "source": [
    "image2_pasted.save(\"image2_pasted.jpg\", \"\")"
   ]
  },
  {
   "cell_type": "markdown",
   "metadata": {},
   "source": [
    "# Question 4c"
   ]
  },
  {
   "cell_type": "code",
   "execution_count": 27,
   "metadata": {},
   "outputs": [
    {
     "data": {
      "text/plain": [
       "(3264, 2448)"
      ]
     },
     "execution_count": 27,
     "metadata": {},
     "output_type": "execute_result"
    }
   ],
   "source": [
    "img1.size"
   ]
  },
  {
   "cell_type": "raw",
   "metadata": {},
   "source": [
    "The midpoint image 1 is 1632,1224\n",
    "Using this and subtracting and adding 256 from these values we get the coordinates of the top left and bottom right of a cropped image of size 512\n",
    "1376,968 / 1888,1480\n",
    "Pasting this onto the top half of img2 cropped to be 512x1024 \n",
    "1376,712 / 1888,1736"
   ]
  },
  {
   "cell_type": "code",
   "execution_count": 29,
   "metadata": {},
   "outputs": [],
   "source": [
    "image1_composite = img1.crop((1376, 968, 1888, 1480)) \n",
    "image2_composite = img2.crop((1376, 712, 1888, 1736)) \n",
    "\n",
    "image12_composited = image2_composite.copy()\n",
    "#paste onto the copied img2\n",
    "image12_composited.paste(image1_composite, (0, 0))\n",
    "image12_composited.show()"
   ]
  },
  {
   "cell_type": "code",
   "execution_count": 30,
   "metadata": {},
   "outputs": [],
   "source": [
    "image12_composited.save(\"image12_composited.jpg\", \"\")"
   ]
  },
  {
   "cell_type": "code",
   "execution_count": null,
   "metadata": {},
   "outputs": [],
   "source": []
  }
 ],
 "metadata": {
  "kernelspec": {
   "display_name": "Python 3",
   "language": "python",
   "name": "python3"
  },
  "language_info": {
   "codemirror_mode": {
    "name": "ipython",
    "version": 3
   },
   "file_extension": ".py",
   "mimetype": "text/x-python",
   "name": "python",
   "nbconvert_exporter": "python",
   "pygments_lexer": "ipython3",
   "version": "3.8.3"
  }
 },
 "nbformat": 4,
 "nbformat_minor": 4
}
